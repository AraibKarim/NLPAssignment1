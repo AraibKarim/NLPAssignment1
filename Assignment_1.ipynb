{
  "nbformat": 4,
  "nbformat_minor": 0,
  "metadata": {
    "colab": {
      "name": "Assignment 1.ipynb",
      "provenance": []
    },
    "kernelspec": {
      "name": "python3",
      "display_name": "Python 3"
    },
    "language_info": {
      "name": "python"
    }
  },
  "cells": [
    {
      "cell_type": "markdown",
      "metadata": {
        "id": "60bssaFQ_GBK"
      },
      "source": [
        "#### Team members: Syed Araib Karim, Amanullah Shareef, Soumya Bhandari, Guntupalli Naga Srija"
      ]
    },
    {
      "cell_type": "code",
      "metadata": {
        "colab": {
          "base_uri": "https://localhost:8080/"
        },
        "id": "erBEwqG-VAnV",
        "outputId": "b40ab125-a63a-4603-81fa-1a7338297060"
      },
      "source": [
        "from bs4 import BeautifulSoup\n",
        "import urllib.request\n",
        "import nltk\n",
        "from nltk.corpus import stopwords\n",
        "import nltk\n",
        "from collections import Counter\n",
        "nltk.download('stopwords')\n",
        "\n",
        "def removeElements(lst, k):\n",
        "    counted = Counter(lst)\n",
        "      \n",
        "    temp_lst = []\n",
        "    for el in counted:\n",
        "        if counted[el] < k:\n",
        "            temp_lst.append(el)\n",
        "              \n",
        "    res_lst = []\n",
        "    for el in lst:\n",
        "        if el not in temp_lst:\n",
        "            res_lst.append(el)\n",
        "              \n",
        "    return(res_lst)\n",
        "\n",
        "response = urllib.request.urlopen('https://en.wikipedia.org/wiki/SpaceX')\n",
        "html = response.read()\n",
        "soup = BeautifulSoup(html,\"html5lib\")\n",
        "text = soup.get_text(strip=True)\n",
        "tokens = [t for t in text.split()]\n",
        "clean_tokens = tokens[:]\n",
        "sr = stopwords.words('english')\n",
        "for token in tokens:\n",
        "  if token in stopwords.words('english'):\n",
        "    clean_tokens.remove(token)\n",
        "\n",
        "# removing single characters and words containing numbers\n",
        "clean_tokens = [i for i in clean_tokens if len(i) > 1 if not any(c.isdigit() for c in i)]\n",
        "\n",
        "# removing elements which are mentioned 5 or less times.\n",
        "clean_tokens = removeElements(clean_tokens,5)\n",
        "\n",
        "freq = nltk.FreqDist(clean_tokens)\n",
        "for key,val in freq.items():\n",
        "  print (str(key) + ':' + str(val))\n",
        "\n"
      ],
      "execution_count": null,
      "outputs": [
        {
          "output_type": "stream",
          "name": "stdout",
          "text": [
            "[nltk_data] Downloading package stopwords to /root/nltk_data...\n",
            "[nltk_data]   Unzipping corpora/stopwords.zip.\n",
            "SpaceX:144\n",
            "articles:6\n",
            "dead:10\n",
            "external:6\n",
            "August:34\n",
            "original:175\n",
            "American:7\n",
            "September:30\n",
            "using:7\n",
            "company:38\n",
            "containing:6\n",
            "October:19\n",
            "identifiers\",\"Articles:8\n",
            "companies:13\n",
            "United:7\n",
            "established:6\n",
            "launch:96\n",
            "service:6\n",
            "based:8\n",
            "Los:11\n",
            "Angeles:8\n",
            "Greater:6\n",
            "technology:5\n",
            "private:22\n",
            "aerospace:5\n",
            "article:17\n",
            "rocket:39\n",
            "For:6\n",
            "Exploration:7\n",
            "Technologies:6\n",
            "December:45\n",
            "flight:18\n",
            "Falcon:92\n",
            "May:69\n",
            "landing:20\n",
            "billion:17\n",
            "Musk:31\n",
            "part:7\n",
            "series:5\n",
            "Boring:8\n",
            "Crew:24\n",
            "Test:9\n",
            "space:23\n",
            "costs:6\n",
            "crew:12\n",
            "spacecraft:18\n",
            "achievements:5\n",
            "first:80\n",
            "privately:6\n",
            "orbit:10\n",
            "successfully:14\n",
            "orbit,:6\n",
            "send:10\n",
            "International:7\n",
            "Space:72\n",
            "Station:6\n",
            "orbital:15\n",
            "reuse:5\n",
            "astronauts:9\n",
            "theInternational:14\n",
            "Dragon:45\n",
            "one:11\n",
            "developing:6\n",
            "satellite:27\n",
            "Starlink:25\n",
            "provide:13\n",
            "commercial:22\n",
            "internet:7\n",
            "In:12\n",
            "January:34\n",
            "constellation:9\n",
            "largest:5\n",
            "also:15\n",
            "Starship:25\n",
            "become:5\n",
            "vehicle:15\n",
            "Heavy:15\n",
            "reusable:9\n",
            "payload:5\n",
            "early:14\n",
            "Dragon,:6\n",
            "NASA:34\n",
            "Commercial:10\n",
            "launches:21\n",
            "global:7\n",
            "crewed:12\n",
            "spaceport:10\n",
            "drone:9\n",
            "test:27\n",
            "Canaveral:6\n",
            "Force:22\n",
            "manufacturing:6\n",
            "market:7\n",
            "competition:5\n",
            "announced:13\n",
            "would:12\n",
            "rockets:10\n",
            "could:6\n",
            "started:5\n",
            "new:18\n",
            "SpaceX.:17\n",
            "SpaceX's:19\n",
            "business:6\n",
            "Musk,:5\n",
            "November:31\n",
            "cost:9\n",
            "developed:7\n",
            "The:37\n",
            "total:8\n",
            "development:20\n",
            "approximately:13\n",
            "plans:8\n",
            "program:6\n",
            "theDragon:6\n",
            "two:10\n",
            "cargo:19\n",
            "resupply:5\n",
            "contracts:14\n",
            "ISS:10\n",
            "States:9\n",
            "vehicles:6\n",
            "use:8\n",
            "three:11\n",
            "nearly:7\n",
            "time:6\n",
            "around:5\n",
            "successful:9\n",
            "achieved:5\n",
            "million:22\n",
            "awarded:12\n",
            "Services:5\n",
            "following:8\n",
            "July:33\n",
            "time,:5\n",
            "CRS:6\n",
            "contract:19\n",
            "operational:5\n",
            "Development:6\n",
            "several:5\n",
            "flights:8\n",
            "This:5\n",
            "Orbital:5\n",
            "funding:6\n",
            "launched:27\n",
            "June:41\n",
            "Demo:5\n",
            "Flight:10\n",
            "second:8\n",
            "mission:12\n",
            "April:40\n",
            "develop:8\n",
            "transport:8\n",
            "missions:13\n",
            "system:6\n",
            "estimated:5\n",
            "worth:6\n",
            "equity:8\n",
            "valuation:8\n",
            "operated:6\n",
            "began:7\n",
            "late:6\n",
            "testing:6\n",
            "February:56\n",
            "U.S.:18\n",
            "large:7\n",
            "Launch:21\n",
            "raised:6\n",
            "stage:11\n",
            "fly:5\n",
            "reused:6\n",
            "used:13\n",
            "March:63\n",
            "number:6\n",
            "SpaceX,:7\n",
            "Elon:16\n",
            "Texas:7\n",
            "Complex:5\n",
            "It:5\n",
            "As:5\n",
            "Musk's:17\n",
            "booster:7\n",
            "security:6\n",
            "article:SpaceX:5\n",
            "Block:5\n",
            "Earth:10\n",
            "Rocket:7\n",
            "engines:5\n",
            "engine:11\n",
            "four:5\n",
            "XL:6\n",
            "station:8\n",
            "Gateway:5\n",
            "site:6\n",
            "Mars:6\n",
            "missions,:5\n",
            "satellites:11\n",
            "additional:8\n",
            "since:12\n",
            "operates:6\n",
            "another:5\n",
            "Air:16\n",
            "facility:11\n",
            "national:6\n",
            "ULA:5\n",
            ".citation:6\n",
            "a,.mw-parser-output:5\n",
            "Business:5\n",
            "Archived:26\n",
            "fromthe:25\n",
            "originalon:20\n",
            "theWayback:5\n",
            "Eric:9\n",
            "Morrow:6\n",
            "Company.:6\n",
            "p.:7\n",
            "Spaceflight:11\n",
            "News.Archivedfrom:6\n",
            "incorporates:15\n",
            "text:15\n",
            "source,:15\n",
            "thepublic:15\n",
            "original(PDF)on:5\n",
            "B.:5\n",
            "de:6\n",
            "Selding:5\n",
            "SpaceNews.Archivedfrom:7\n",
            "SpaceNews.:8\n",
            "Times.Archivedfrom:8\n",
            "New:10\n",
            "York:7\n",
            "Michael:5\n",
            "wins:5\n",
            "Now.Archivedfrom:5\n",
            "NASA.Archivedfrom:5\n",
            "identifiersArticles:8\n"
          ]
        }
      ]
    },
    {
      "cell_type": "code",
      "metadata": {
        "colab": {
          "base_uri": "https://localhost:8080/",
          "height": 323
        },
        "id": "griysm-JW0RB",
        "outputId": "f5acc106-b2d2-4f2a-e17c-20f84f93ca80"
      },
      "source": [
        "freq.plot(10, cumulative= False)"
      ],
      "execution_count": null,
      "outputs": [
        {
          "output_type": "display_data",
          "data": {
            "image/png": "[encoded data removed]",
            "text/plain": [
              "<Figure size 432x288 with 1 Axes>"
            ]
          },
          "metadata": {
            "needs_background": "light"
          }
        }
      ]
    },
    {
      "cell_type": "code",
      "metadata": {
        "id": "EIlFnA-xW8Pq"
      },
      "source": [
        ""
      ],
      "execution_count": null,
      "outputs": []
    },
    {
      "cell_type": "markdown",
      "metadata": {
        "id": "tXqfs1dM-NbD"
      },
      "source": [
        "### Bar Chart for Question 3"
      ]
    },
    {
      "cell_type": "code",
      "metadata": {
        "colab": {
          "base_uri": "https://localhost:8080/",
          "height": 616
        },
        "id": "bPy1LYnj-PX0",
        "outputId": "3defe5aa-8c28-4465-a9d0-b02ed076c907"
      },
      "source": [
        "import pandas as pd\n",
        "import matplotlib.pyplot as plt\n",
        "import seaborn as sns\n",
        "all_fdist = nltk.FreqDist(clean_tokens).most_common(10)\n",
        "\n",
        "## Conversion to Pandas series via Python Dictionary for easier plotting\n",
        "all_fdist = pd.Series(dict(all_fdist))\n",
        "\n",
        "## Setting figure, ax into variables\n",
        "fig, ax = plt.subplots(figsize=(10,10))\n",
        "\n",
        "## Seaborn plotting using Pandas attributes + xtick rotation for ease of viewing\n",
        "all_plot = sns.barplot(x=all_fdist.index, y=all_fdist.values, ax=ax)\n",
        "plt.xticks(rotation=30);"
      ],
      "execution_count": null,
      "outputs": [
        {
          "output_type": "display_data",
          "data": {
            "image/png": "[encoded data removed]",
            "text/plain": [
              "<Figure size 720x720 with 1 Axes>"
            ]
          },
          "metadata": {
            "needs_background": "light"
          }
        }
      ]
    },
    {
      "cell_type": "code",
      "metadata": {
        "id": "DHScfOnj-w8C"
      },
      "source": [
        ""
      ],
      "execution_count": null,
      "outputs": []
    }
  ]
}